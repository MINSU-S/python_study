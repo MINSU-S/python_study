{
 "cells": [
  {
   "cell_type": "code",
   "execution_count": 2,
   "metadata": {},
   "outputs": [
    {
     "name": "stdout",
     "output_type": "stream",
     "text": [
      "((1, 'English', datetime.datetime(2006, 2, 15, 5, 2, 19)), (2, 'Italian', datetime.datetime(2006, 2, 15, 5, 2, 19)), (3, 'Japanese', datetime.datetime(2006, 2, 15, 5, 2, 19)), (4, 'Mandarin', datetime.datetime(2006, 2, 15, 5, 2, 19)), (5, 'French', datetime.datetime(2006, 2, 15, 5, 2, 19)), (6, 'German', datetime.datetime(2006, 2, 15, 5, 2, 19)))\n",
      "   0         1                   2\n",
      "0  1   English 2006-02-15 05:02:19\n",
      "1  2   Italian 2006-02-15 05:02:19\n",
      "2  3  Japanese 2006-02-15 05:02:19\n",
      "3  4  Mandarin 2006-02-15 05:02:19\n",
      "4  5    French 2006-02-15 05:02:19\n",
      "5  6    German 2006-02-15 05:02:19\n"
     ]
    }
   ],
   "source": [
    "# MySQL과 Python 연동하기\n",
    "\n",
    "import\tpymysql\n",
    "import\tpandas\tas\tpd\n",
    "\n",
    "conn = pymysql.connect(host='localhost', user='root', password='206477',\n",
    "db = 'sakila', charset='utf8')\n",
    "\n",
    "cur = conn.cursor()\n",
    "cur.execute('select\t* from language')\n",
    "rows = cur.fetchall()\t# 모든 데이터를 가져옴\n",
    "print(rows)\n",
    "language_df = pd.DataFrame(rows)    # DataFrame 형태로 변환\n",
    "print(language_df)\n",
    "\n",
    "cur.close()\n",
    "conn.close()"
   ]
  },
  {
   "cell_type": "code",
   "execution_count": null,
   "metadata": {},
   "outputs": [],
   "source": []
  }
 ],
 "metadata": {
  "kernelspec": {
   "display_name": "Python 3.9.12 ('base')",
   "language": "python",
   "name": "python3"
  },
  "language_info": {
   "codemirror_mode": {
    "name": "ipython",
    "version": 3
   },
   "file_extension": ".py",
   "mimetype": "text/x-python",
   "name": "python",
   "nbconvert_exporter": "python",
   "pygments_lexer": "ipython3",
   "version": "3.9.12"
  },
  "orig_nbformat": 4,
  "vscode": {
   "interpreter": {
    "hash": "ad2bdc8ecc057115af97d19610ffacc2b4e99fae6737bb82f5d7fb13d2f2c186"
   }
  }
 },
 "nbformat": 4,
 "nbformat_minor": 2
}
