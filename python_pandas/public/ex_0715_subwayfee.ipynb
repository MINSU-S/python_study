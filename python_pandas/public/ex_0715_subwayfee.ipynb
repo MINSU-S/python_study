{
 "cells": [
  {
   "cell_type": "markdown",
   "metadata": {},
   "source": [
    "# [ 서울 지하철 통계 분석 ]"
   ]
  },
  {
   "cell_type": "markdown",
   "metadata": {},
   "source": [
    "### 1.대중교통 데이터 읽어오기"
   ]
  },
  {
   "cell_type": "code",
   "execution_count": 8,
   "metadata": {},
   "outputs": [
    {
     "name": "stdout",
     "output_type": "stream",
     "text": [
      "['사용월', '호선명', '역ID', '지하철역', '유임승차', '유임하차', '무임승차', '무임하차']\n",
      "['06-22', '1호선', '150', '서울역', '1150754', '1123193', '194717', '187155']\n",
      "['06-22', '1호선', '151', '시청', '537067', '543569', '80671', '78279']\n",
      "['06-22', '1호선', '152', '종각', '834173', '815704', '131987', '121717']\n",
      "['06-22', '1호선', '153', '종로3가', '450317', '404106', '299617', '278151']\n",
      "['06-22', '1호선', '154', '종로5가', '394420', '404105', '254236', '244555']\n",
      "['06-22', '1호선', '155', '동대문', '212719', '198987', '117499', '118515']\n",
      "['06-22', '1호선', '156', '신설동', '264825', '252339', '112362', '106855']\n"
     ]
    }
   ],
   "source": [
    "import csv\n",
    "\n",
    "f=open('./data/subwayfee.csv', encoding='euc-kr')\n",
    "data= csv.reader(f)\n",
    "header = next(data)\n",
    "print(header)\n",
    "\n",
    "i=0\n",
    "for row in data:\n",
    "    print(row)\n",
    "    if i >5:\n",
    "        break\n",
    "    i +=1\n",
    "f.close()"
   ]
  },
  {
   "cell_type": "markdown",
   "metadata": {},
   "source": [
    "### 2.유임 승차 vs 무임 승차 비율 계산"
   ]
  },
  {
   "cell_type": "code",
   "execution_count": 9,
   "metadata": {},
   "outputs": [
    {
     "ename": "SyntaxError",
     "evalue": "invalid syntax (404961949.py, line 5)",
     "output_type": "error",
     "traceback": [
      "\u001b[1;36m  Input \u001b[1;32mIn [9]\u001b[1;36m\u001b[0m\n\u001b[1;33m    for i in range(4,8)\u001b[0m\n\u001b[1;37m                       ^\u001b[0m\n\u001b[1;31mSyntaxError\u001b[0m\u001b[1;31m:\u001b[0m invalid syntax\n"
     ]
    }
   ],
   "source": [
    "max_rate = 0\n",
    "rate= 0\n",
    "i=0\n",
    "for row in data:\n",
    "    for i in range(4,8)\n",
    "        row[i] = int(row[i])\n",
    "    rate = row[4] / row[6]\n",
    "    \n",
    "    if rate > max_rate:\n",
    "        max_rate = rate\n",
    "print(max_rate)"
   ]
  },
  {
   "cell_type": "markdown",
   "metadata": {},
   "source": [
    "### 3.무임승차 인원이 0인 역 찾기"
   ]
  },
  {
   "cell_type": "code",
   "execution_count": 10,
   "metadata": {},
   "outputs": [
    {
     "name": "stdout",
     "output_type": "stream",
     "text": [
      "['06-22', '일산선', '1949', '지축', 10, 0, 0, 0]\n",
      "['06-22', '경의선', '1296', '계양', 10, 0, 0, 0]\n",
      "['06-22', '경의선', '1297', '검암', 2, 0, 0, 0]\n",
      "['06-22', '6호선', '2615', '연신내', 31, 0, 0, 0]\n",
      "['06-22', '6호선', '2649', '신내', 4, 0, 0, 0]\n",
      "['06-22', '7호선', '2753', '까치울', 1, 0, 0, 0]\n",
      "['06-22', '7호선', '2758', '상동', 1, 0, 0, 0]\n",
      "['06-22', '7호선', '2761', '부평구청', 1, 0, 0, 0]\n"
     ]
    }
   ],
   "source": [
    "import\tcsv\n",
    "f\t=\topen('./data/subwayfee.csv',\tencoding='cp949')\n",
    "data\t=\tcsv.reader(f)\n",
    "header\t=\tnext(data)\n",
    "max_rate = 0\n",
    "rate\t= 0\n",
    "i =\t0\n",
    "\n",
    "for\trow\tin data:\n",
    "    for\ti in range(4,8):\n",
    "        row[i]\t=\tint(row[i])\t#\t4,\t5,\t6,\t7\t컬럼값을 정수로 변환\n",
    "    rate\t=\trow[4]\t/\t(row[4]\t+\trow[6])\n",
    "\n",
    "    if\trow[6]\t==\t0:\t#\t무임승차 인원[6]이 없는 역 출력\n",
    "        print(row)\n",
    "\n"
   ]
  },
  {
   "cell_type": "markdown",
   "metadata": {},
   "source": [
    "### 4.최대 무임 승차 비율 확인"
   ]
  },
  {
   "cell_type": "code",
   "execution_count": 12,
   "metadata": {},
   "outputs": [
    {
     "name": "stdout",
     "output_type": "stream",
     "text": [
      "['06-22', '1호선', '150', '서울역', 1150754, 1123193, 194717, 187155] 14.47 %\n",
      "['06-22', '1호선', '153', '종로3가', 450317, 404106, 299617, 278151] 39.95 %\n",
      "['06-22', '1호선', '157', '제기동', 218782, 209109, 263173, 281985] 54.61 %\n",
      "['06-22', '경원선', '1916', '소요산', 32659, 25998, 62990, 56806] 65.86 %\n",
      "['06-22', '7호선', '2756', '신중동', 0, 0, 1, 0] 100.0 %\n"
     ]
    }
   ],
   "source": [
    "import csv\n",
    "f = open('./data/subwayfee.csv', encoding='cp949')\n",
    "data = csv.reader(f)\n",
    "next(data)\n",
    "max_rate = 0\n",
    "rate = 0\n",
    "\n",
    "for\trow\tin data:\n",
    "    for\ti in range(4,8):\n",
    "        row[i]\t=\tint(row[i])\t\n",
    "    \n",
    "    if row[6] != 0:\n",
    "        rate = (row[6]*100) / (row[4]+row[6])\n",
    "        if rate > max_rate:\n",
    "            max_rate =rate\n",
    "            print(row, round(rate, 2), '%')\n",
    "f.close()"
   ]
  },
  {
   "cell_type": "markdown",
   "metadata": {},
   "source": [
    "### 5.최대 유임 승차 인원이 있는 역은?"
   ]
  },
  {
   "cell_type": "code",
   "execution_count": 15,
   "metadata": {},
   "outputs": [
    {
     "name": "stdout",
     "output_type": "stream",
     "text": [
      "['06-22', '2호선', '209', '한양대', 269240, 295829, 12481, 13227]\n",
      "역이름: 한양대, 전체인원: 281721, 유임승차인원: 269240, 유임승차비율: 0.96 \n"
     ]
    }
   ],
   "source": [
    "import csv\n",
    "f = open('./data/subwayfee.csv', encoding='cp949')\n",
    "data = csv.reader(f)\n",
    "next(data)\n",
    "max_rate = 0\n",
    "rate = 0\n",
    "\n",
    "max_row = []\n",
    "total_count = 0\n",
    "max_total_num = 0\n",
    "\n",
    "for row in data:\n",
    "    for i in range(4,8):\n",
    "        row[i] = int(row[i])\n",
    "    total_count=row[4] + row[6]\n",
    "    if (row[6] !=0) and (total_count >100000):\n",
    "        rate = row[4] / total_count\n",
    "        if rate > max_rate:\n",
    "            max_rate = rate\n",
    "            max_row = row\n",
    "            max_total_num = total_count\n",
    "            \n",
    "print(max_row)\n",
    "print(f\"역이름: {max_row[3]}, 전체인원: {max_total_num}, 유임승차인원: {max_row[4]}, 유임승차비율: {round(max_rate, 2)} \")"
   ]
  },
  {
   "cell_type": "markdown",
   "metadata": {},
   "source": [
    "### 6. 실습 : 유임 승차 비율이 50% 이하인 역"
   ]
  },
  {
   "cell_type": "code",
   "execution_count": 3,
   "metadata": {},
   "outputs": [
    {
     "name": "stdout",
     "output_type": "stream",
     "text": [
      "['06-22', '1호선', '157', '제기동', 218782, '209109', 263173, '281985'] 0.45\n",
      "['06-22', '1호선', '159', '동묘앞', 122460, '131299', 146455, '147539'] 0.46\n",
      "['06-22', '경원선', '1916', '소요산', 32659, '25998', 62990, '56806'] 0.34\n",
      "['06-22', '중앙선', '1218', '원덕', 5854, '5749', 6959, '6739'] 0.46\n",
      "['06-22', '중앙선', '1219', '용문', 34168, '34477', 38467, '38202'] 0.47\n",
      "유임 승차 비율이 가장 낮은 역: 용문\n",
      "전체인원: 72635\n",
      "유임승차인원: 34168\n",
      "유임승차비율: 0.47\n"
     ]
    }
   ],
   "source": [
    "import csv\n",
    "f = open('./data/subwayfee.csv', encoding='cp949')\n",
    "data = csv.reader(f)\n",
    "next(data)\n",
    "\n",
    "min_rate = 0\n",
    "rate = 0\n",
    "min_row = []\n",
    "total_count = 0\n",
    "min_total_num = 0\n",
    "\n",
    "for row in data:\n",
    "    for i in [4,6]:\n",
    "        row[i] = int(row[i])\n",
    "    total_count = row[4] +row[6]\n",
    "    if (row[6] !=0) and (total_count>10000):\n",
    "        rate = row[4]/total_count\n",
    "        if rate <= 0.5:\n",
    "            print(row,round(rate,2))\n",
    "            min_rate =rate\n",
    "            min_row = row\n",
    "            min_total_count = total_count\n",
    "            \n",
    "print(f'유임 승차 비율이 가장 낮은 역: {min_row[3]}\\n전체인원: {min_total_count}\\n유임승차인원: {min_row[4]}\\n유임승차비율: {round(min_rate,2)}')"
   ]
  },
  {
   "cell_type": "code",
   "execution_count": 5,
   "metadata": {},
   "outputs": [
    {
     "data": {
      "image/png": "[encoded data removed]",
      "text/plain": [
       "<Figure size 432x288 with 1 Axes>"
      ]
     },
     "metadata": {},
     "output_type": "display_data"
    }
   ],
   "source": [
    "import platform\n",
    "import matplotlib.pyplot as plt\n",
    "if platform.system() == 'Windows':\n",
    "    plt.rc('font', family='Malgun Gothic')\n",
    "else:\n",
    "    plt.rc('font', family='AppleGothic')\n",
    "    \n",
    "plt.title(min_row[3] + \" 유, 무임 승차 비율\")\n",
    "label = ['유임승차' , '무임승차']\n",
    "values = [min_row[4], min_row[6]] \n",
    "\n",
    "plt.pie(values, labels =label, autopct = '%.1f%%') \n",
    "plt.show()"
   ]
  },
  {
   "cell_type": "code",
   "execution_count": null,
   "metadata": {},
   "outputs": [],
   "source": []
  }
 ],
 "metadata": {
  "kernelspec": {
   "display_name": "Python 3.9.12 ('base')",
   "language": "python",
   "name": "python3"
  },
  "language_info": {
   "codemirror_mode": {
    "name": "ipython",
    "version": 3
   },
   "file_extension": ".py",
   "mimetype": "text/x-python",
   "name": "python",
   "nbconvert_exporter": "python",
   "pygments_lexer": "ipython3",
   "version": "3.9.12"
  },
  "orig_nbformat": 4,
  "vscode": {
   "interpreter": {
    "hash": "ad2bdc8ecc057115af97d19610ffacc2b4e99fae6737bb82f5d7fb13d2f2c186"
   }
  }
 },
 "nbformat": 4,
 "nbformat_minor": 2
}
